{
 "cells": [
  {
   "cell_type": "code",
   "execution_count": null,
   "metadata": {
    "colab": {
     "base_uri": "https://localhost:8080/"
    },
    "executionInfo": {
     "elapsed": 4,
     "status": "ok",
     "timestamp": 1637920799769,
     "user": {
      "displayName": "Fabio Rossanigo",
      "photoUrl": "https://lh3.googleusercontent.com/a/default-user=s64",
      "userId": "11516163278258661421"
     },
     "user_tz": -60
    },
    "gradient": {
     "editing": false,
     "execution_count": 1,
     "id": "4b1b662d-83f3-40a9-8561-7a2b827d4b22",
     "kernelId": "39a754d5-24d8-4915-8697-870ce9e62468"
    },
    "id": "8-rJySmy835Y",
    "outputId": "e7a76431-3591-4dd4-b54f-a3d3bfb5142a"
   },
   "outputs": [],
   "source": []
  },
  {
   "cell_type": "code",
   "execution_count": null,
   "metadata": {
    "executionInfo": {
     "elapsed": 3887,
     "status": "ok",
     "timestamp": 1637920805748,
     "user": {
      "displayName": "Fabio Rossanigo",
      "photoUrl": "https://lh3.googleusercontent.com/a/default-user=s64",
      "userId": "11516163278258661421"
     },
     "user_tz": -60
    },
    "gradient": {
     "editing": false,
     "execution_count": 1,
     "id": "eeafc9bb-ebe4-4804-afcc-fffeb1521d78",
     "kernelId": "39a754d5-24d8-4915-8697-870ce9e62468"
    },
    "id": "Kad8mvnp85ML"
   },
   "outputs": [],
   "source": [
    "import os\n",
    "import numpy as np\n",
    "from PIL import Image\n",
    "import matplotlib.pyplot as plt\n",
    "import visualkeras\n",
    "\n",
    "import tensorflow as tf\n",
    "import random\n",
    "import pandas as pd\n",
    "import seaborn as sns\n",
    "import matplotlib as mpl\n",
    "import matplotlib.pyplot as plt\n",
    "from sklearn.model_selection import train_test_split\n",
    "from sklearn.metrics import accuracy_score, f1_score, precision_score, recall_score\n",
    "from sklearn.metrics import confusion_matrix\n",
    "\n",
    "tfk = tf.keras\n",
    "tfkl = tf.keras.layers"
   ]
  },
  {
   "cell_type": "code",
   "execution_count": null,
   "metadata": {
    "executionInfo": {
     "elapsed": 5,
     "status": "ok",
     "timestamp": 1637920823948,
     "user": {
      "displayName": "Fabio Rossanigo",
      "photoUrl": "https://lh3.googleusercontent.com/a/default-user=s64",
      "userId": "11516163278258661421"
     },
     "user_tz": -60
    },
    "gradient": {
     "editing": false,
     "execution_count": 2,
     "id": "e78fc8bb-eb06-455c-aefd-134bfa737fda",
     "kernelId": "39a754d5-24d8-4915-8697-870ce9e62468"
    },
    "id": "voCaRwS49Mol"
   },
   "outputs": [],
   "source": [
    "seed = 42\n",
    "dataset_dir = 'training'"
   ]
  },
  {
   "cell_type": "code",
   "execution_count": null,
   "metadata": {
    "colab": {
     "base_uri": "https://localhost:8080/"
    },
    "executionInfo": {
     "elapsed": 7043,
     "status": "ok",
     "timestamp": 1637920832787,
     "user": {
      "displayName": "Fabio Rossanigo",
      "photoUrl": "https://lh3.googleusercontent.com/a/default-user=s64",
      "userId": "11516163278258661421"
     },
     "user_tz": -60
    },
    "gradient": {
     "editing": false,
     "execution_count": 8,
     "id": "5c74f642-b0b4-41f1-86a3-46793b57500e",
     "kernelId": "39a754d5-24d8-4915-8697-870ce9e62468"
    },
    "id": "Brvb9t5_hF0S",
    "outputId": "a7ab7784-1c72-4589-ae8d-25100e1d9cad"
   },
   "outputs": [
    {
     "name": "stdout",
     "output_type": "stream",
     "text": [
      "Requirement already satisfied: split-folders in /usr/local/lib/python3.7/dist-packages (0.4.3)\n",
      "Collecting visualkeras\n",
      "  Using cached visualkeras-0.0.2-py3-none-any.whl (12 kB)\n",
      "Collecting aggdraw>=1.3.11\n",
      "  Using cached aggdraw-1.3.12-cp37-cp37m-manylinux2010_x86_64.whl (795 kB)\n",
      "Requirement already satisfied: pillow>=6.2.0 in /usr/local/lib/python3.7/dist-packages (from visualkeras) (7.1.2)\n",
      "Requirement already satisfied: numpy>=1.18.1 in /usr/local/lib/python3.7/dist-packages (from visualkeras) (1.19.5)\n",
      "Installing collected packages: aggdraw, visualkeras\n",
      "Successfully installed aggdraw-1.3.12 visualkeras-0.0.2\n"
     ]
    }
   ],
   "source": [
    "!pip install split-folders\n",
    "!pip install visualkeras\n",
    "import visualkeras"
   ]
  },
  {
   "cell_type": "code",
   "execution_count": null,
   "metadata": {
    "colab": {
     "base_uri": "https://localhost:8080/"
    },
    "executionInfo": {
     "elapsed": 3339256,
     "status": "ok",
     "timestamp": 1637508062438,
     "user": {
      "displayName": "Fabio Rossanigo",
      "photoUrl": "https://lh3.googleusercontent.com/a/default-user=s64",
      "userId": "11516163278258661421"
     },
     "user_tz": -60
    },
    "gradient": {
     "editing": false,
     "execution_count": 4,
     "id": "f8771fb3-570d-4e71-b103-45aab8cee255",
     "kernelId": "39a754d5-24d8-4915-8697-870ce9e62468"
    },
    "id": "-OjiBl83vk_c",
    "outputId": "d6eae2db-8cdc-4b54-d042-548cb9baf421"
   },
   "outputs": [],
   "source": [
    "!unzip dataset.zip\n",
    "import splitfolders as split_folders\n",
    "split_folders.ratio('training', output=\"output\", seed=1337, ratio=(.8, 0.1,0.1)) "
   ]
  },
  {
   "cell_type": "code",
   "execution_count": null,
   "metadata": {
    "executionInfo": {
     "elapsed": 501,
     "status": "ok",
     "timestamp": 1637920838914,
     "user": {
      "displayName": "Fabio Rossanigo",
      "photoUrl": "https://lh3.googleusercontent.com/a/default-user=s64",
      "userId": "11516163278258661421"
     },
     "user_tz": -60
    },
    "gradient": {
     "editing": false,
     "execution_count": 5,
     "id": "6b4fb21d-ab2d-4a34-ac1f-352e1b2b2220",
     "kernelId": "39a754d5-24d8-4915-8697-870ce9e62468"
    },
    "id": "1LXbWGFQv-60"
   },
   "outputs": [],
   "source": [
    "dataset_dir = 'output'\n",
    "training_dir = os.path.join(dataset_dir, 'train')\n",
    "validation_dir = os.path.join(dataset_dir, 'val')\n",
    "test_dir = os.path.join(dataset_dir, 'test')"
   ]
  },
  {
   "cell_type": "code",
   "execution_count": null,
   "metadata": {
    "colab": {
     "base_uri": "https://localhost:8080/"
    },
    "executionInfo": {
     "elapsed": 34177,
     "status": "ok",
     "timestamp": 1637920877326,
     "user": {
      "displayName": "Fabio Rossanigo",
      "photoUrl": "https://lh3.googleusercontent.com/a/default-user=s64",
      "userId": "11516163278258661421"
     },
     "user_tz": -60
    },
    "gradient": {
     "editing": false,
     "execution_count": 6,
     "id": "a7a62302-1bd2-4f11-b82b-e9040263fbad",
     "kernelId": "39a754d5-24d8-4915-8697-870ce9e62468"
    },
    "id": "b7Nop7YFdSr8",
    "outputId": "6e9264c0-4cd7-42aa-d788-e08c2d477f1f"
   },
   "outputs": [
    {
     "name": "stdout",
     "output_type": "stream",
     "text": [
      "Found 14176 images belonging to 14 classes.\n",
      "Found 1765 images belonging to 14 classes.\n",
      "Found 1787 images belonging to 14 classes.\n"
     ]
    }
   ],
   "source": [
    "\n",
    "# Images are divided into folders, one for each class. \n",
    "# If the images are organized in such a way, we can exploit the \n",
    "# ImageDataGenerator to read them from disk.\n",
    "from tensorflow.keras.preprocessing.image import ImageDataGenerator\n",
    "\n",
    "# Create an instance of ImageDataGenerator for training, validation, and test sets\n",
    "aug_train_data_gen = ImageDataGenerator(rotation_range=40,\n",
    "                                        height_shift_range=50,\n",
    "                                        width_shift_range=50,\n",
    "                                        zoom_range=0.4,\n",
    "                                        horizontal_flip=True,\n",
    "                                        vertical_flip=True, \n",
    "                                        fill_mode='reflect',\n",
    "                                        rescale=1/255.)\n",
    "valid_data_gen = ImageDataGenerator(rescale=1/255.)\n",
    "test_data_gen = ImageDataGenerator(rescale=1/255.)\n",
    "\n",
    "#from tensorflow.keras.preprocessing.image import ImageDataGenerator\n",
    "aug_train_gen = aug_train_data_gen.flow_from_directory(directory=training_dir,\n",
    "                                               target_size=(256,256),\n",
    "                                               color_mode='rgb',\n",
    "                                               classes=None, # can be set to labels\n",
    "                                               class_mode='categorical',\n",
    "                                               batch_size=256,\n",
    "                                               shuffle=True,\n",
    "                                               seed=seed)\n",
    "valid_gen = valid_data_gen.flow_from_directory(directory=validation_dir,\n",
    "                                               target_size=(256,256),\n",
    "                                               color_mode='rgb',\n",
    "                                               classes=None, # can be set to labels\n",
    "                                               class_mode='categorical',\n",
    "                                               batch_size=256,\n",
    "                                               shuffle=False,\n",
    "                                               seed=seed)\n",
    "test_gen = test_data_gen.flow_from_directory(directory=test_dir,\n",
    "                                              target_size=(256,256),\n",
    "                                              color_mode='rgb',\n",
    "                                              classes=None, # can be set to labels\n",
    "                                              class_mode='categorical',\n",
    "                                              batch_size=256,\n",
    "                                              shuffle=False,\n",
    "                                              seed=seed)"
   ]
  },
  {
   "cell_type": "code",
   "execution_count": null,
   "metadata": {
    "executionInfo": {
     "elapsed": 409,
     "status": "ok",
     "timestamp": 1637920989247,
     "user": {
      "displayName": "Fabio Rossanigo",
      "photoUrl": "https://lh3.googleusercontent.com/a/default-user=s64",
      "userId": "11516163278258661421"
     },
     "user_tz": -60
    },
    "gradient": {
     "editing": false,
     "execution_count": 24,
     "id": "dbb89c5c-386c-457e-a409-7f8bdc3884c4",
     "kernelId": "39a754d5-24d8-4915-8697-870ce9e62468"
    },
    "id": "d32utsYUyeCB"
   },
   "outputs": [],
   "source": [
    "input_shape = (256, 256, 3)\n",
    "epochs = 200"
   ]
  },
  {
   "cell_type": "code",
   "execution_count": null,
   "metadata": {
    "executionInfo": {
     "elapsed": 6,
     "status": "ok",
     "timestamp": 1637920992582,
     "user": {
      "displayName": "Fabio Rossanigo",
      "photoUrl": "https://lh3.googleusercontent.com/a/default-user=s64",
      "userId": "11516163278258661421"
     },
     "user_tz": -60
    },
    "gradient": {
     "execution_count": 33,
     "id": "20cc9ed8-2523-4ac6-80ac-9b7f2f1ba4fe",
     "kernelId": "39a754d5-24d8-4915-8697-870ce9e62468"
    },
    "id": "Hew0bt7TbUJ0"
   },
   "outputs": [],
   "source": [
    "def build_model(input_shape):\n",
    "\n",
    "    # Build the neural network layer by layer\n",
    "    input_layer = tfkl.Input(shape=input_shape, name='Input')\n",
    "\n",
    "    #resize_layer = tfkl.Resizing(128, 128, interpolation=\"bicubic\")(input_layer)\n",
    "\n",
    "    conv1_1 = tfkl.Conv2D(\n",
    "        filters=16,\n",
    "        kernel_size=(3, 3),\n",
    "        strides = (1, 1),\n",
    "        padding = 'same',\n",
    "        activation = 'relu',\n",
    "        kernel_initializer = tfk.initializers.GlorotUniform(seed)\n",
    "    )(input_layer)\n",
    "    conv1_2 = tfkl.Conv2D(\n",
    "        filters=16,\n",
    "        kernel_size=(3, 3),\n",
    "        strides = (1, 1),\n",
    "        padding = 'same',\n",
    "        activation = 'relu',\n",
    "        kernel_initializer = tfk.initializers.GlorotUniform(seed)\n",
    "    )(conv1_1)\n",
    "    pool1 = tfkl.MaxPooling2D(\n",
    "        pool_size = (2, 2)\n",
    "    )(conv1_2)\n",
    "\n",
    "    conv2_1 = tfkl.Conv2D(\n",
    "        filters=32,\n",
    "        kernel_size=(3, 3),\n",
    "        strides = (1, 1),\n",
    "        padding = 'same',\n",
    "        activation = 'relu',\n",
    "        kernel_initializer = tfk.initializers.GlorotUniform(seed)\n",
    "    )(pool1)\n",
    "    conv2_2 = tfkl.Conv2D(\n",
    "        filters=32,\n",
    "        kernel_size=(3, 3),\n",
    "        strides = (1, 1),\n",
    "        padding = 'same',\n",
    "        activation = 'relu',\n",
    "        kernel_initializer = tfk.initializers.GlorotUniform(seed)\n",
    "    )(conv2_1)\n",
    "    pool2 = tfkl.MaxPooling2D(\n",
    "        pool_size = (2, 2)\n",
    "    )(conv2_2)\n",
    "\n",
    "\n",
    "    conv3_1 = tfkl.Conv2D(\n",
    "        filters=64,\n",
    "        kernel_size=(3, 3),\n",
    "        strides = (1, 1),\n",
    "        padding = 'same',\n",
    "        activation = 'relu',\n",
    "        kernel_initializer = tfk.initializers.GlorotUniform(seed)\n",
    "    )(pool2)\n",
    "    conv3_2 = tfkl.Conv2D(\n",
    "        filters=64,\n",
    "        kernel_size=(3, 3),\n",
    "        strides = (1, 1),\n",
    "        padding = 'same',\n",
    "        activation = 'relu',\n",
    "        kernel_initializer = tfk.initializers.GlorotUniform(seed)\n",
    "    )(conv3_1)\n",
    "    pool3 = tfkl.MaxPooling2D(\n",
    "        pool_size = (2, 2)\n",
    "    )(conv3_2)\n",
    "\n",
    "    conv4_1 = tfkl.Conv2D(\n",
    "        filters=128,\n",
    "        kernel_size=(3, 3),\n",
    "        strides = (1, 1),\n",
    "        padding = 'same',\n",
    "        activation = 'relu',\n",
    "        kernel_initializer = tfk.initializers.GlorotUniform(seed)\n",
    "    )(pool3)\n",
    "    conv4_2 = tfkl.Conv2D(\n",
    "        filters=128,\n",
    "        kernel_size=(3, 3),\n",
    "        strides = (1, 1),\n",
    "        padding = 'same',\n",
    "        activation = 'relu',\n",
    "        kernel_initializer = tfk.initializers.GlorotUniform(seed)\n",
    "    )(conv4_1)\n",
    "    pool4 = tfkl.MaxPooling2D(\n",
    "        pool_size = (2, 2)\n",
    "    )(conv4_2)\n",
    "    \n",
    "    conv5_1 = tfkl.Conv2D(\n",
    "        filters=256,\n",
    "        kernel_size=(3, 3),\n",
    "        strides = (1, 1),\n",
    "        padding = 'same',\n",
    "        activation = 'relu',\n",
    "        kernel_initializer = tfk.initializers.GlorotUniform(seed)\n",
    "    )(pool4)\n",
    "    conv5_2 = tfkl.Conv2D(\n",
    "        filters=256,\n",
    "        kernel_size=(3, 3),\n",
    "        strides = (1, 1),\n",
    "        padding = 'same',\n",
    "        activation = 'relu',\n",
    "        kernel_initializer = tfk.initializers.GlorotUniform(seed)\n",
    "    )(conv5_1)\n",
    "    glob_pooling = tfkl.GlobalAveragePooling2D(name='GloablPooling')(conv5_2)\n",
    "    glob_pooling = tfkl.Dropout(0.3, seed=seed, name='GloablPoolingDropout')(glob_pooling)\n",
    "\n",
    "\n",
    "    flattening_layer = tfkl.Flatten(name='Flatten')(glob_pooling)\n",
    "    flattening_layer = tfkl.Dropout(0.3, seed=seed)(flattening_layer)\n",
    "    classifier_layer1 = tfkl.Dense(units=256, name='Classifier1', activation='relu', kernel_initializer = tfk.initializers.GlorotUniform(seed), kernel_regularizer=tf.keras.regularizers.l2(1e-5))(flattening_layer)\n",
    "    classifier_layer1 = tfkl.Dropout(0.3, seed=seed)(classifier_layer1)\n",
    "    #classifier_layer2 = tfkl.Dense(units=128, name='Classifier2', activation='relu', kernel_initializer = tfk.initializers.GlorotUniform(seed), kernel_regularizer=tf.keras.regularizers.l2(1e-5))(classifier_layer1)\n",
    "    #classifier_layer2 = tfkl.Dropout(0.3, seed=seed)(classifier_layer2)\n",
    "    output_layer = tfkl.Dense(units=14, activation='softmax', name='Output')(classifier_layer1)\n",
    "\n",
    "    # Connect input and output through the Model class\n",
    "    model = tfk.Model(inputs=input_layer, outputs=output_layer, name='model')\n",
    "    \n",
    "    # Compile the model\n",
    "    model.compile(loss=tfk.losses.CategoricalCrossentropy(), optimizer=tfk.optimizers.Adam(), metrics='accuracy')\n",
    "\n",
    "    # Return the model\n",
    "    return model"
   ]
  },
  {
   "cell_type": "code",
   "execution_count": null,
   "metadata": {
    "colab": {
     "base_uri": "https://localhost:8080/",
     "height": 1000
    },
    "executionInfo": {
     "elapsed": 4107,
     "status": "ok",
     "timestamp": 1637921000214,
     "user": {
      "displayName": "Fabio Rossanigo",
      "photoUrl": "https://lh3.googleusercontent.com/a/default-user=s64",
      "userId": "11516163278258661421"
     },
     "user_tz": -60
    },
    "gradient": {
     "execution_count": 34,
     "id": "7c123f61-2d98-42a8-8a4a-9bc8e1cda270",
     "kernelId": "39a754d5-24d8-4915-8697-870ce9e62468"
    },
    "id": "2Owb-oNMbUqr",
    "outputId": "5983d9c1-5212-4423-fad6-5507d22e43c7"
   },
   "outputs": [
    {
     "name": "stdout",
     "output_type": "stream",
     "text": [
      "Model: \"model\"\n",
      "_________________________________________________________________\n",
      "Layer (type)                 Output Shape              Param #   \n",
      "=================================================================\n",
      "Input (InputLayer)           [(None, 256, 256, 3)]     0         \n",
      "_________________________________________________________________\n",
      "conv2d_81 (Conv2D)           (None, 256, 256, 16)      448       \n",
      "_________________________________________________________________\n",
      "conv2d_82 (Conv2D)           (None, 256, 256, 16)      2320      \n",
      "_________________________________________________________________\n",
      "max_pooling2d_32 (MaxPooling (None, 128, 128, 16)      0         \n",
      "_________________________________________________________________\n",
      "conv2d_83 (Conv2D)           (None, 128, 128, 32)      4640      \n",
      "_________________________________________________________________\n",
      "conv2d_84 (Conv2D)           (None, 128, 128, 32)      9248      \n",
      "_________________________________________________________________\n",
      "max_pooling2d_33 (MaxPooling (None, 64, 64, 32)        0         \n",
      "_________________________________________________________________\n",
      "conv2d_85 (Conv2D)           (None, 64, 64, 64)        18496     \n",
      "_________________________________________________________________\n",
      "conv2d_86 (Conv2D)           (None, 64, 64, 64)        36928     \n",
      "_________________________________________________________________\n",
      "max_pooling2d_34 (MaxPooling (None, 32, 32, 64)        0         \n",
      "_________________________________________________________________\n",
      "conv2d_87 (Conv2D)           (None, 32, 32, 128)       73856     \n",
      "_________________________________________________________________\n",
      "conv2d_88 (Conv2D)           (None, 32, 32, 128)       147584    \n",
      "_________________________________________________________________\n",
      "max_pooling2d_35 (MaxPooling (None, 16, 16, 128)       0         \n",
      "_________________________________________________________________\n",
      "conv2d_89 (Conv2D)           (None, 16, 16, 256)       295168    \n",
      "_________________________________________________________________\n",
      "conv2d_90 (Conv2D)           (None, 16, 16, 256)       590080    \n",
      "_________________________________________________________________\n",
      "GloablPooling (GlobalAverage (None, 256)               0         \n",
      "_________________________________________________________________\n",
      "GloablPoolingDropout (Dropou (None, 256)               0         \n",
      "_________________________________________________________________\n",
      "Flatten (Flatten)            (None, 256)               0         \n",
      "_________________________________________________________________\n",
      "dropout_14 (Dropout)         (None, 256)               0         \n",
      "_________________________________________________________________\n",
      "Classifier1 (Dense)          (None, 256)               65792     \n",
      "_________________________________________________________________\n",
      "dropout_15 (Dropout)         (None, 256)               0         \n",
      "_________________________________________________________________\n",
      "Output (Dense)               (None, 14)                3598      \n",
      "=================================================================\n",
      "Total params: 1,248,158\n",
      "Trainable params: 1,248,158\n",
      "Non-trainable params: 0\n",
      "_________________________________________________________________\n"
     ]
    },
    {
     "data": {
      "image/png": "[encoded data removed]",
      "text/plain": [
       "<PIL.Image.Image image mode=RGBA size=1262x2703 at 0x7FE36C08DB80>"
      ]
     },
     "execution_count": 34,
     "metadata": {},
     "output_type": "execute_result"
    }
   ],
   "source": [
    "model = build_model(input_shape)\n",
    "model.summary()\n",
    "visualkeras.layered_view(model, legend=True, spacing=20, scale_xy=10)"
   ]
  },
  {
   "cell_type": "code",
   "execution_count": null,
   "metadata": {
    "colab": {
     "base_uri": "https://localhost:8080/"
    },
    "gradient": {
     "execution_count": 35,
     "id": "20eb4141-f8f3-4d5a-8beb-0b2581500902",
     "kernelId": "39a754d5-24d8-4915-8697-870ce9e62468"
    },
    "id": "GhhnZPgCbWCc",
    "outputId": "d6450333-8322-412d-c6f4-9c32a8aa1829"
   },
   "outputs": [
    {
     "name": "stdout",
     "output_type": "stream",
     "text": [
      "Epoch 1/50\n",
      "56/56 [==============================] - ETA: 0s - loss: 2.4124 - accuracy: 0.3023"
     ]
    },
    {
     "name": "stderr",
     "output_type": "stream",
     "text": [
      "2021-11-26 17:43:31.171366: W tensorflow/core/common_runtime/bfc_allocator.cc:275] Allocator (GPU_0_bfc) ran out of memory trying to allocate 3.62GiB with freed_by_count=0. The caller indicates that this is not a failure, but may mean that there could be performance gains if more memory were available.\n"
     ]
    },
    {
     "name": "stdout",
     "output_type": "stream",
     "text": [
      "56/56 [==============================] - 377s 7s/step - loss: 2.4124 - accuracy: 0.3023 - val_loss: 2.3136 - val_accuracy: 0.3224\n",
      "Epoch 2/50\n",
      "56/56 [==============================] - 361s 6s/step - loss: 2.2409 - accuracy: 0.3320 - val_loss: 2.0703 - val_accuracy: 0.3728\n",
      "Epoch 3/50\n",
      "56/56 [==============================] - 441s 8s/step - loss: 2.0125 - accuracy: 0.3854 - val_loss: 1.9661 - val_accuracy: 0.4380\n",
      "Epoch 4/50\n",
      "56/56 [==============================] - 389s 7s/step - loss: 1.8907 - accuracy: 0.4125 - val_loss: 1.8839 - val_accuracy: 0.4589\n",
      "Epoch 5/50\n",
      "56/56 [==============================] - 401s 7s/step - loss: 1.8069 - accuracy: 0.4268 - val_loss: 1.7518 - val_accuracy: 0.4567\n",
      "Epoch 6/50\n",
      "56/56 [==============================] - 394s 7s/step - loss: 1.7666 - accuracy: 0.4400 - val_loss: 1.7661 - val_accuracy: 0.4504\n",
      "Epoch 7/50\n",
      "56/56 [==============================] - 407s 7s/step - loss: 1.7010 - accuracy: 0.4714 - val_loss: 1.8657 - val_accuracy: 0.4584\n",
      "Epoch 8/50\n",
      "56/56 [==============================] - 451s 8s/step - loss: 1.5025 - accuracy: 0.5389 - val_loss: 1.3127 - val_accuracy: 0.6431\n",
      "Epoch 9/50\n",
      "56/56 [==============================] - 538s 10s/step - loss: 1.2459 - accuracy: 0.6099 - val_loss: 1.1915 - val_accuracy: 0.6584\n",
      "Epoch 10/50\n",
      "56/56 [==============================] - 587s 10s/step - loss: 1.1352 - accuracy: 0.6439 - val_loss: 1.2445 - val_accuracy: 0.6765\n",
      "Epoch 11/50\n",
      "56/56 [==============================] - 580s 10s/step - loss: 0.9999 - accuracy: 0.6845 - val_loss: 1.0838 - val_accuracy: 0.6946\n",
      "Epoch 12/50\n",
      "56/56 [==============================] - 570s 10s/step - loss: 0.9027 - accuracy: 0.7128 - val_loss: 0.9032 - val_accuracy: 0.7564\n",
      "Epoch 13/50\n",
      "56/56 [==============================] - 586s 10s/step - loss: 0.8174 - accuracy: 0.7363 - val_loss: 0.9858 - val_accuracy: 0.7048\n",
      "Epoch 14/50\n",
      "56/56 [==============================] - 582s 10s/step - loss: 0.8031 - accuracy: 0.7459 - val_loss: 0.6733 - val_accuracy: 0.8198\n",
      "Epoch 15/50\n",
      "56/56 [==============================] - 554s 10s/step - loss: 0.7384 - accuracy: 0.7604 - val_loss: 0.6694 - val_accuracy: 0.8057\n",
      "Epoch 16/50\n",
      "56/56 [==============================] - 522s 9s/step - loss: 0.7207 - accuracy: 0.7707 - val_loss: 0.6441 - val_accuracy: 0.8057\n",
      "Epoch 17/50\n",
      "56/56 [==============================] - 496s 9s/step - loss: 0.6539 - accuracy: 0.7901 - val_loss: 0.6053 - val_accuracy: 0.8170\n",
      "Epoch 18/50\n",
      "56/56 [==============================] - 403s 7s/step - loss: 0.5687 - accuracy: 0.8174 - val_loss: 0.6370 - val_accuracy: 0.8091\n",
      "Epoch 19/50\n",
      "56/56 [==============================] - 396s 7s/step - loss: 0.5337 - accuracy: 0.8309 - val_loss: 0.5008 - val_accuracy: 0.8493\n",
      "Epoch 20/50\n",
      "56/56 [==============================] - 389s 7s/step - loss: 0.4972 - accuracy: 0.8388 - val_loss: 0.6265 - val_accuracy: 0.8091\n",
      "Epoch 21/50\n",
      "56/56 [==============================] - 382s 7s/step - loss: 0.4848 - accuracy: 0.8448 - val_loss: 0.4434 - val_accuracy: 0.8776\n",
      "Epoch 22/50\n",
      "56/56 [==============================] - 405s 7s/step - loss: 0.4655 - accuracy: 0.8512 - val_loss: 0.4610 - val_accuracy: 0.8646\n",
      "Epoch 23/50\n",
      "56/56 [==============================] - 393s 7s/step - loss: 0.4331 - accuracy: 0.8631 - val_loss: 0.4998 - val_accuracy: 0.8510\n",
      "Epoch 24/50\n",
      "56/56 [==============================] - 404s 7s/step - loss: 0.4237 - accuracy: 0.8651 - val_loss: 0.3664 - val_accuracy: 0.8856\n",
      "Epoch 25/50\n",
      "56/56 [==============================] - 393s 7s/step - loss: 0.3691 - accuracy: 0.8821 - val_loss: 0.4305 - val_accuracy: 0.8686\n",
      "Epoch 26/50\n",
      "56/56 [==============================] - 392s 7s/step - loss: 0.3472 - accuracy: 0.8895 - val_loss: 0.2905 - val_accuracy: 0.9156\n",
      "Epoch 27/50\n",
      "56/56 [==============================] - 376s 7s/step - loss: 0.3178 - accuracy: 0.8969 - val_loss: 0.2712 - val_accuracy: 0.9229\n",
      "Epoch 28/50\n",
      "56/56 [==============================] - 391s 7s/step - loss: 0.3280 - accuracy: 0.8967 - val_loss: 0.3596 - val_accuracy: 0.8952\n",
      "Epoch 29/50\n",
      "56/56 [==============================] - 393s 7s/step - loss: 0.3202 - accuracy: 0.8985 - val_loss: 0.3197 - val_accuracy: 0.9150\n",
      "Epoch 30/50\n",
      "56/56 [==============================] - 400s 7s/step - loss: 0.2912 - accuracy: 0.9079 - val_loss: 0.2642 - val_accuracy: 0.9269\n",
      "Epoch 31/50\n",
      "56/56 [==============================] - 388s 7s/step - loss: 0.2850 - accuracy: 0.9113 - val_loss: 0.2384 - val_accuracy: 0.9286\n",
      "Epoch 32/50\n",
      "56/56 [==============================] - 398s 7s/step - loss: 0.2691 - accuracy: 0.9138 - val_loss: 0.2620 - val_accuracy: 0.9229\n",
      "Epoch 33/50\n",
      "56/56 [==============================] - 399s 7s/step - loss: 0.2546 - accuracy: 0.9175 - val_loss: 0.2604 - val_accuracy: 0.9201\n",
      "Epoch 34/50\n",
      "56/56 [==============================] - 422s 8s/step - loss: 0.2481 - accuracy: 0.9226 - val_loss: 0.1941 - val_accuracy: 0.9433\n",
      "Epoch 35/50\n",
      "56/56 [==============================] - 449s 8s/step - loss: 0.2406 - accuracy: 0.9250 - val_loss: 0.3114 - val_accuracy: 0.9139\n",
      "Epoch 36/50\n",
      "56/56 [==============================] - 279s 5s/step - loss: 0.2092 - accuracy: 0.9332 - val_loss: 0.2065 - val_accuracy: 0.9405\n",
      "Epoch 37/50\n",
      "56/56 [==============================] - 275s 5s/step - loss: 0.2131 - accuracy: 0.9318 - val_loss: 0.2018 - val_accuracy: 0.9377\n",
      "Epoch 38/50\n",
      "56/56 [==============================] - 274s 5s/step - loss: 0.2044 - accuracy: 0.9364 - val_loss: 0.2308 - val_accuracy: 0.9286\n",
      "Epoch 39/50\n",
      "56/56 [==============================] - 276s 5s/step - loss: 0.2103 - accuracy: 0.9335 - val_loss: 0.3030 - val_accuracy: 0.9048\n"
     ]
    }
   ],
   "source": [
    "\n",
    "# Train the model\n",
    "history = model.fit(\n",
    "    x = aug_train_gen,\n",
    "    epochs = epochs,\n",
    "    validation_data = valid_gen,\n",
    "    callbacks = [tfk.callbacks.EarlyStopping(monitor='val_accuracy', mode='max', patience=5, restore_best_weights=True)]\n",
    ").history"
   ]
  },
  {
   "cell_type": "code",
   "execution_count": null,
   "metadata": {
    "colab": {
     "base_uri": "https://localhost:8080/",
     "height": 232
    },
    "executionInfo": {
     "elapsed": 911,
     "status": "error",
     "timestamp": 1637830393083,
     "user": {
      "displayName": "Fabio Rossanigo",
      "photoUrl": "https://lh3.googleusercontent.com/a/default-user=s64",
      "userId": "11516163278258661421"
     },
     "user_tz": -60
    },
    "gradient": {
     "id": "ae4f46c1-9b72-4ae3-b5ed-87bff64f141a",
     "kernelId": "39a754d5-24d8-4915-8697-870ce9e62468"
    },
    "id": "jiXH0g0tbXrL",
    "outputId": "20cfeda8-2874-4be1-ca4e-e5cf7175d993"
   },
   "outputs": [],
   "source": [
    "# Plot the training\n",
    "plt.figure(figsize=(15,5))\n",
    "plt.plot(history['loss'], label='Training', alpha=.8, color='#ff7f0e')\n",
    "plt.plot(history['val_loss'], label='Validation', alpha=.8, color='#4D61E2')\n",
    "plt.legend(loc='upper left')\n",
    "plt.title('Crossentropy')\n",
    "plt.grid(alpha=.3)\n",
    "\n",
    "plt.figure(figsize=(15,5))\n",
    "plt.plot(history['accuracy'], label='Training', alpha=.8, color='#ff7f0e')\n",
    "plt.plot(history['val_accuracy'], label='Validation', alpha=.8, color='#4D61E2')\n",
    "plt.legend(loc='upper left')\n",
    "plt.title('Accuracy')\n",
    "plt.grid(alpha=.3)\n",
    "\n",
    "plt.show()"
   ]
  },
  {
   "cell_type": "code",
   "execution_count": null,
   "metadata": {
    "colab": {
     "base_uri": "https://localhost:8080/"
    },
    "executionInfo": {
     "elapsed": 3065,
     "status": "ok",
     "timestamp": 1637801331383,
     "user": {
      "displayName": "Fabio Rossanigo",
      "photoUrl": "https://lh3.googleusercontent.com/a/default-user=s64",
      "userId": "11516163278258661421"
     },
     "user_tz": -60
    },
    "gradient": {
     "id": "b85c69a2-7896-4003-9cf3-4416b3661478",
     "kernelId": "39a754d5-24d8-4915-8697-870ce9e62468"
    },
    "id": "zVcjG6oObc0T",
    "outputId": "d633b85f-079e-47c8-a0d3-ec56584f625c"
   },
   "outputs": [
    {
     "name": "stderr",
     "output_type": "stream",
     "text": [
      "WARNING:absl:Function `_wrapped_model` contains input name(s) Input with unsupported characters which will be renamed to input in the SavedModel.\n"
     ]
    },
    {
     "name": "stdout",
     "output_type": "stream",
     "text": [
      "INFO:tensorflow:Assets written to: SavedCNN3/assets\n"
     ]
    },
    {
     "name": "stderr",
     "output_type": "stream",
     "text": [
      "INFO:tensorflow:Assets written to: SavedCNN3/assets\n"
     ]
    }
   ],
   "source": [
    "model.save('SavedCNN')"
   ]
  }
 ],
 "metadata": {
  "accelerator": "GPU",
  "colab": {
   "collapsed_sections": [],
   "name": "Homework1Notebook2.ipynb",
   "provenance": []
  },
  "kernelspec": {
   "display_name": "Python 3 (ipykernel)",
   "language": "python",
   "name": "python3"
  },
  "language_info": {
   "codemirror_mode": {
    "name": "ipython",
    "version": 3
   },
   "file_extension": ".py",
   "mimetype": "text/x-python",
   "name": "python",
   "nbconvert_exporter": "python",
   "pygments_lexer": "ipython3",
   "version": "3.8.10"
  }
 },
 "nbformat": 4,
 "nbformat_minor": 1
}
